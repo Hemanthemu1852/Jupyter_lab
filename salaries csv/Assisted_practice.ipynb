{
 "cells": [
  {
   "cell_type": "code",
   "execution_count": 5,
   "id": "9c080690-6b65-4698-85ba-9938a9a762f4",
   "metadata": {
    "tags": []
   },
   "outputs": [],
   "source": [
    "import pandas as pd \n",
    "import numpy as np \n",
    "import matplotlib.pyplot as plt\n"
   ]
  },
  {
   "cell_type": "code",
   "execution_count": null,
   "id": "4e4d2d11-b8f1-4148-b5f8-2c5b5573be44",
   "metadata": {},
   "outputs": [],
   "source": [
    "SDdata=pd.read_csv(\"employees.csv\")\n",
    "#converting the data frame to numpy array\n",
    "new=SDdata.to_numpy()"
   ]
  },
  {
   "cell_type": "code",
   "execution_count": 34,
   "id": "86d47581-045c-4352-aacc-bb0e23c534e7",
   "metadata": {},
   "outputs": [],
   "source": [
    "#get the number of columns in the data set \n",
    "num_columns=new.shape[1]"
   ]
  },
  {
   "cell_type": "code",
   "execution_count": 35,
   "id": "8f1cbab8-8d5d-48f1-80ab-8fb9d748cf9b",
   "metadata": {},
   "outputs": [
    {
     "data": {
      "text/plain": [
       "11"
      ]
     },
     "execution_count": 35,
     "metadata": {},
     "output_type": "execute_result"
    }
   ],
   "source": [
    "num_columns"
   ]
  },
  {
   "cell_type": "code",
   "execution_count": 36,
   "id": "6e1a59ef-eb89-47ee-8091-30ba5a4f54af",
   "metadata": {},
   "outputs": [],
   "source": [
    "#creating a list to store each column seperately\n",
    "column=[]"
   ]
  },
  {
   "cell_type": "code",
   "execution_count": 37,
   "id": "5fdc7d56-2fc0-4380-a8c8-6ee36ff638b2",
   "metadata": {},
   "outputs": [],
   "source": [
    "#using a for loop and extracting each column and store it in the list \n",
    "for i in range (num_columns):\n",
    "    column_data=new[:,i]\n",
    "    column.append(column_data)\n",
    "    "
   ]
  },
  {
   "cell_type": "code",
   "execution_count": 39,
   "id": "898c96a0-f5a4-47ed-82a6-1ab28e357e7a",
   "metadata": {},
   "outputs": [
    {
     "data": {
      "text/plain": [
       "array([198, 199, 200, 201, 202, 203, 204, 205, 206, 100, 101, 102, 103,\n",
       "       104, 105, 106, 107, 108, 109, 110, 111, 112, 113, 114, 115, 116,\n",
       "       117, 118, 119, 120, 121, 122, 123, 124, 125, 126, 127, 128, 129,\n",
       "       130, 131, 132, 133, 134, 135, 136, 137, 138, 139, 140],\n",
       "      dtype=object)"
      ]
     },
     "execution_count": 39,
     "metadata": {},
     "output_type": "execute_result"
    }
   ],
   "source": [
    "column[0]\n",
    "#the column list contains all the columns and u can access each individual column using indexing"
   ]
  },
  {
   "cell_type": "code",
   "execution_count": null,
   "id": "ef881074-7183-4279-bad5-460ed5612e1b",
   "metadata": {},
   "outputs": [],
   "source": []
  }
 ],
 "metadata": {
  "kernelspec": {
   "display_name": "Python 3 (ipykernel)",
   "language": "python",
   "name": "python3"
  },
  "language_info": {
   "codemirror_mode": {
    "name": "ipython",
    "version": 3
   },
   "file_extension": ".py",
   "mimetype": "text/x-python",
   "name": "python",
   "nbconvert_exporter": "python",
   "pygments_lexer": "ipython3",
   "version": "3.10.9"
  }
 },
 "nbformat": 4,
 "nbformat_minor": 5
}
